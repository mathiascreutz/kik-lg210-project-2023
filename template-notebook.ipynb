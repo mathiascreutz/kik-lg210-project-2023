{
 "cells": [
  {
   "cell_type": "markdown",
   "id": "e17dceb2",
   "metadata": {},
   "source": [
    "## Welcome to your notebook\n",
    "\n",
    "Write blocks of text in *markdown* format around your blocks of Python code.\n",
    "\n",
    "Let's see how we initialize our system by installing NLTK and downloading corpora:"
   ]
  },
  {
   "cell_type": "code",
   "execution_count": null,
   "id": "b9d08037",
   "metadata": {},
   "outputs": [],
   "source": [
    "# Install and import NLTK -- remove if you do not need it\n",
    "!pip install nltk\n",
    "import nltk\n",
    "\n",
    "# Then download the corpora needed for ANY of the project topics:\n",
    "# Feel free to remove the parts that you do not need.\n",
    "nltk.download(['gutenberg', 'genesis', 'treebank', 'nps_chat',\n",
    "               'inaugural', 'webtext', 'wordnet', 'punkt',\n",
    "               'averaged_perceptron_tagger', 'brown', 'tagsets',\n",
    "               'cmudict', 'senseval', 'rte', 'reuters', 'names',\n",
    "               'stopwords', 'words', 'semcor', 'conll2000', 'conll2002',\n",
    "               'movie_reviews', 'sentence_polarity', 'twitter_samples',\n",
    "               'subjectivity', 'shakespeare', 'product_reviews_1',\n",
    "               'product_reviews_2'])\n",
    "\n",
    "print(\"Ready to do something!\")"
   ]
  },
  {
   "cell_type": "markdown",
   "id": "c953b9a3",
   "metadata": {},
   "source": [
    "Then add some descriptions for your project...\n",
    "\n",
    "Here's an extension that may come in handy for plotting graphics:"
   ]
  },
  {
   "cell_type": "code",
   "execution_count": null,
   "id": "340f4efd",
   "metadata": {},
   "outputs": [],
   "source": [
    "# If you want to plot graphics in your notebook, put this %matplotlib command before your imports\n",
    "%matplotlib notebook"
   ]
  },
  {
   "cell_type": "markdown",
   "id": "d4c5bdf9",
   "metadata": {},
   "source": [
    "If you want to monitor memory usage, you can use this extension:"
   ]
  },
  {
   "cell_type": "code",
   "execution_count": null,
   "id": "756fa351",
   "metadata": {},
   "outputs": [],
   "source": [
    "# Install the memory profiler\n",
    "!pip install -q memory_profiler\n",
    "%reload_ext memory_profiler"
   ]
  },
  {
   "cell_type": "markdown",
   "id": "d797081b",
   "metadata": {},
   "source": [
    "After installation, you can ask how much memory your notebook uses in different locations of the code:"
   ]
  },
  {
   "cell_type": "code",
   "execution_count": null,
   "id": "27686626",
   "metadata": {},
   "outputs": [],
   "source": [
    "# If you use more than 4 gigabytes, your kernel at CSC notebooks will die\n",
    "%memit"
   ]
  },
  {
   "cell_type": "markdown",
   "id": "e547d259",
   "metadata": {},
   "source": [
    "Good luck and have fun!"
   ]
  }
 ],
 "metadata": {
  "kernelspec": {
   "display_name": "Python 3 (ipykernel)",
   "language": "python",
   "name": "python3"
  },
  "language_info": {
   "codemirror_mode": {
    "name": "ipython",
    "version": 3
   },
   "file_extension": ".py",
   "mimetype": "text/x-python",
   "name": "python",
   "nbconvert_exporter": "python",
   "pygments_lexer": "ipython3",
   "version": "3.10.6"
  }
 },
 "nbformat": 4,
 "nbformat_minor": 5
}
